{
 "cells": [
  {
   "cell_type": "code",
   "execution_count": null,
   "id": "6cf33673",
   "metadata": {},
   "outputs": [],
   "source": [
    "from pymatgen.io.vasp.outputs import Vasprun\n",
    "import matplotlib.pyplot as plt\n",
    "\n",
    "# Load vasprun.xml file\n",
    "vasprun = Vasprun(\"vasprun.xml\")\n",
    "\n",
    "# Get the density of states\n",
    "dos = vasprun.complete_dos\n",
    "\n",
    "# Plot the DOS\n",
    "plt.figure()\n",
    "plt.plot(dos.energies - dos.efermi, dos.densities)\n",
    "plt.xlabel('Energy (eV)')\n",
    "plt.ylabel('Density of States')\n",
    "plt.title('Density of States')\n",
    "plt.grid(True)\n",
    "plt.show()"
   ]
  },
  {
   "cell_type": "code",
   "execution_count": null,
   "id": "d07bb205",
   "metadata": {},
   "outputs": [],
   "source": []
  }
 ],
 "metadata": {
  "kernelspec": {
   "display_name": "Python 3 (ipykernel)",
   "language": "python",
   "name": "python3"
  },
  "language_info": {
   "codemirror_mode": {
    "name": "ipython",
    "version": 3
   },
   "file_extension": ".py",
   "mimetype": "text/x-python",
   "name": "python",
   "nbconvert_exporter": "python",
   "pygments_lexer": "ipython3",
   "version": "3.11.7"
  }
 },
 "nbformat": 4,
 "nbformat_minor": 5
}
